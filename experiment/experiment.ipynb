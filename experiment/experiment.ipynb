{
 "cells": [
  {
   "cell_type": "code",
   "execution_count": 2,
   "metadata": {},
   "outputs": [],
   "source": [
    "import pandas as pd"
   ]
  },
  {
   "cell_type": "code",
   "execution_count": 5,
   "metadata": {},
   "outputs": [],
   "source": [
    "df = pd.read_csv(\"..\\\\DENSITÉ_PULPE_SORTIE_THIKNER.csv\", low_memory=False)"
   ]
  },
  {
   "cell_type": "code",
   "execution_count": 8,
   "metadata": {},
   "outputs": [
    {
     "name": "stdout",
     "output_type": "stream",
     "text": [
      "Index(['date', 'debit_massique_de_la_pulpe_a_lentree_thickener',\n",
      "       'debit_volumique_de_pulpe_a_lentree_thikner_',\n",
      "       'debit_massique_de_la_pulpe_sortie_thickener_',\n",
      "       'debit_volumique_de__de_la_pulpe_sortie_thikner__thickener_',\n",
      "       'debit_pompe_de_circulation_', 'densite_pulpe__pompe_de_circulation',\n",
      "       'densite_pulpe_sortie__thickener', 'densite_pulpe_entre__thickener',\n",
      "       'debit_de_floculent_p1', 'debit_de_floculent_p2',\n",
      "       'pression_du_lit_de_pulpe_de_phosphate', 'couple_de_racleur',\n",
      "       'niveau_du_lit', 'turbidite_deau_claire_du_thickener'],\n",
      "      dtype='object')\n"
     ]
    }
   ],
   "source": [
    "import unidecode\n",
    "\n",
    "# Assuming your dataframe is named 'df'\n",
    "\n",
    "# Function to clean column names\n",
    "def clean_column_name(name):\n",
    "    # Remove accents\n",
    "    name = unidecode.unidecode(name)\n",
    "    # Replace spaces with underscores\n",
    "    name = name.replace(' ', '_')\n",
    "    # Remove any remaining non-alphanumeric characters\n",
    "    name = ''.join(e for e in name if e.isalnum() or e == '_')\n",
    "    # Convert to lowercase\n",
    "    return name.lower()\n",
    "\n",
    "# Apply the cleaning function to all column names\n",
    "df.columns = [clean_column_name(col) for col in df.columns]\n",
    "\n",
    "# Print the new column names\n",
    "print(df.columns)"
   ]
  },
  {
   "cell_type": "code",
   "execution_count": 9,
   "metadata": {},
   "outputs": [],
   "source": [
    "# drop the first row of tags\n",
    "\n",
    "df = df.drop(df.index[0]).reset_index(drop=True)"
   ]
  },
  {
   "cell_type": "code",
   "execution_count": 10,
   "metadata": {},
   "outputs": [
    {
     "name": "stdout",
     "output_type": "stream",
     "text": [
      "date                                                          datetime64[ns]\n",
      "debit_massique_de_la_pulpe_a_lentree_thickener                       float64\n",
      "debit_volumique_de_pulpe_a_lentree_thikner_                          float64\n",
      "debit_massique_de_la_pulpe_sortie_thickener_                         float64\n",
      "debit_volumique_de__de_la_pulpe_sortie_thikner__thickener_           float64\n",
      "debit_pompe_de_circulation_                                          float64\n",
      "densite_pulpe__pompe_de_circulation                                  float64\n",
      "densite_pulpe_sortie__thickener                                      float64\n",
      "densite_pulpe_entre__thickener                                       float64\n",
      "debit_de_floculent_p1                                                float64\n",
      "debit_de_floculent_p2                                                float64\n",
      "pression_du_lit_de_pulpe_de_phosphate                                float64\n",
      "couple_de_racleur                                                    float64\n",
      "niveau_du_lit                                                        float64\n",
      "turbidite_deau_claire_du_thickener                                   float64\n",
      "dtype: object\n"
     ]
    }
   ],
   "source": [
    "# Assuming the first column is the date column\n",
    "date_column = df.columns[0]\n",
    "\n",
    "# Convert date column\n",
    "df[date_column] = pd.to_datetime(df[date_column], format= '%d/%m/%Y %H:%M')\n",
    "\n",
    "# List of columns to convert to float (all except the first column)\n",
    "columns_to_convert = df.columns[1:].tolist()\n",
    "\n",
    "# Convert numeric columns to float\n",
    "for column in columns_to_convert:\n",
    "    # Replace comma with dot for decimal separator\n",
    "    df[column] = df[column].str.replace(',', '.')\n",
    "    \n",
    "    # Convert to float, coerce errors to NaN\n",
    "    df[column] = pd.to_numeric(df[column], errors='coerce')\n",
    "\n",
    "# Check the data types\n",
    "print(df.dtypes)"
   ]
  },
  {
   "cell_type": "code",
   "execution_count": 11,
   "metadata": {},
   "outputs": [
    {
     "name": "stdout",
     "output_type": "stream",
     "text": [
      "Percentage of missing values in each column:\n",
      "                                               Column  Percentage Missing\n",
      "2         debit_volumique_de_pulpe_a_lentree_thikner_            6.806154\n",
      "12                                  couple_de_racleur            6.806154\n",
      "7                     densite_pulpe_sortie__thickener            6.806154\n",
      "14                 turbidite_deau_claire_du_thickener            6.493654\n",
      "6                 densite_pulpe__pompe_de_circulation            6.488266\n",
      "1      debit_massique_de_la_pulpe_a_lentree_thickener            6.488266\n",
      "4   debit_volumique_de__de_la_pulpe_sortie_thikner...            6.488266\n",
      "10                              debit_de_floculent_p2            6.488266\n",
      "9                               debit_de_floculent_p1            6.488266\n",
      "5                         debit_pompe_de_circulation_            6.488266\n",
      "8                      densite_pulpe_entre__thickener            6.488266\n",
      "3        debit_massique_de_la_pulpe_sortie_thickener_            0.642361\n",
      "13                                      niveau_du_lit            0.560345\n",
      "11              pression_du_lit_de_pulpe_de_phosphate            0.559746\n",
      "0                                                date            0.000000\n",
      "\n",
      "Columns with more than 5% missing values:\n",
      "                                               Column  Percentage Missing\n",
      "2         debit_volumique_de_pulpe_a_lentree_thikner_            6.806154\n",
      "12                                  couple_de_racleur            6.806154\n",
      "7                     densite_pulpe_sortie__thickener            6.806154\n",
      "14                 turbidite_deau_claire_du_thickener            6.493654\n",
      "6                 densite_pulpe__pompe_de_circulation            6.488266\n",
      "1      debit_massique_de_la_pulpe_a_lentree_thickener            6.488266\n",
      "4   debit_volumique_de__de_la_pulpe_sortie_thikner...            6.488266\n",
      "10                              debit_de_floculent_p2            6.488266\n",
      "9                               debit_de_floculent_p1            6.488266\n",
      "5                         debit_pompe_de_circulation_            6.488266\n",
      "8                      densite_pulpe_entre__thickener            6.488266\n"
     ]
    }
   ],
   "source": [
    "# check for missing values\n",
    "\n",
    "# Calculate percentage of missing values\n",
    "total_rows = len(df)\n",
    "missing_percentages = (df.isnull().sum() / total_rows) * 100\n",
    "\n",
    "# Create a dataframe with column names and their missing value percentages\n",
    "missing_df = pd.DataFrame({\n",
    "    'Column': missing_percentages.index,\n",
    "    'Percentage Missing': missing_percentages.values\n",
    "})\n",
    "\n",
    "# Sort by percentage missing in descending order\n",
    "missing_df = missing_df.sort_values('Percentage Missing', ascending=False)\n",
    "\n",
    "# Print the results\n",
    "print(\"Percentage of missing values in each column:\")\n",
    "print(missing_df)\n",
    "\n",
    "# Print columns with more than 5% missing values\n",
    "print(\"\\nColumns with more than 5% missing values:\")\n",
    "print(missing_df[missing_df['Percentage Missing'] > 5])"
   ]
  },
  {
   "cell_type": "code",
   "execution_count": 12,
   "metadata": {},
   "outputs": [
    {
     "name": "stdout",
     "output_type": "stream",
     "text": [
      "                                                    Negative Count  \\\n",
      "debit_massique_de_la_pulpe_sortie_thickener_                  3112   \n",
      "debit_massique_de_la_pulpe_a_lentree_thickener                1926   \n",
      "debit_de_floculent_p2                                           80   \n",
      "niveau_du_lit                                                   32   \n",
      "debit_volumique_de_pulpe_a_lentree_thikner_                      0   \n",
      "debit_volumique_de__de_la_pulpe_sortie_thikner_...               0   \n",
      "densite_pulpe__pompe_de_circulation                              0   \n",
      "debit_pompe_de_circulation_                                      0   \n",
      "densite_pulpe_entre__thickener                                   0   \n",
      "densite_pulpe_sortie__thickener                                  0   \n",
      "debit_de_floculent_p1                                            0   \n",
      "pression_du_lit_de_pulpe_de_phosphate                            0   \n",
      "couple_de_racleur                                                0   \n",
      "turbidite_deau_claire_du_thickener                               0   \n",
      "\n",
      "                                                    Negative Percentage  \n",
      "debit_massique_de_la_pulpe_sortie_thickener_                   1.875072  \n",
      "debit_massique_de_la_pulpe_a_lentree_thickener                 1.233019  \n",
      "debit_de_floculent_p2                                          0.051216  \n",
      "niveau_du_lit                                                  0.019265  \n",
      "debit_volumique_de_pulpe_a_lentree_thikner_                    0.000000  \n",
      "debit_volumique_de__de_la_pulpe_sortie_thikner_...             0.000000  \n",
      "densite_pulpe__pompe_de_circulation                            0.000000  \n",
      "debit_pompe_de_circulation_                                    0.000000  \n",
      "densite_pulpe_entre__thickener                                 0.000000  \n",
      "densite_pulpe_sortie__thickener                                0.000000  \n",
      "debit_de_floculent_p1                                          0.000000  \n",
      "pression_du_lit_de_pulpe_de_phosphate                          0.000000  \n",
      "couple_de_racleur                                              0.000000  \n",
      "turbidite_deau_claire_du_thickener                             0.000000  \n",
      "\n",
      "Columns with negative values:\n",
      "                                                Negative Count  \\\n",
      "debit_massique_de_la_pulpe_sortie_thickener_              3112   \n",
      "debit_massique_de_la_pulpe_a_lentree_thickener            1926   \n",
      "debit_de_floculent_p2                                       80   \n",
      "niveau_du_lit                                               32   \n",
      "\n",
      "                                                Negative Percentage  \n",
      "debit_massique_de_la_pulpe_sortie_thickener_               1.875072  \n",
      "debit_massique_de_la_pulpe_a_lentree_thickener             1.233019  \n",
      "debit_de_floculent_p2                                      0.051216  \n",
      "niveau_du_lit                                              0.019265  \n"
     ]
    }
   ],
   "source": [
    "# Function to count negative values (excluding NaN)\n",
    "def count_negatives(series):\n",
    "    return (series < 0).sum()\n",
    "\n",
    "# Function to calculate percentage of negative values\n",
    "def percentage_negatives(series):\n",
    "    total_non_null = series.count()\n",
    "    negatives = (series < 0).sum()\n",
    "    return (negatives / total_non_null) * 100 if total_non_null > 0 else 0\n",
    "\n",
    "# Select all columns except the first one\n",
    "columns_to_check = df.columns[1:]\n",
    "\n",
    "# Count negative values in each column (excluding the first column)\n",
    "negative_counts = df[columns_to_check].apply(count_negatives)\n",
    "\n",
    "# Calculate percentages of negative values (excluding the first column)\n",
    "negative_percentages = df[columns_to_check].apply(percentage_negatives)\n",
    "\n",
    "# Combine results\n",
    "negative_results = pd.DataFrame({\n",
    "    'Negative Count': negative_counts,\n",
    "    'Negative Percentage': negative_percentages\n",
    "})\n",
    "\n",
    "# Sort results by negative count in descending order\n",
    "negative_results = negative_results.sort_values('Negative Count', ascending=False)\n",
    "\n",
    "# Display results\n",
    "print(negative_results)\n",
    "\n",
    "# Optionally, display only columns with negative values\n",
    "print(\"\\nColumns with negative values:\")\n",
    "print(negative_results[negative_results['Negative Count'] > 0])"
   ]
  },
  {
   "cell_type": "code",
   "execution_count": 13,
   "metadata": {},
   "outputs": [],
   "source": [
    "# Make a copy of the DataFrame\n",
    "df_copy = df.copy()\n",
    "\n",
    "# Drop rows with missing values\n",
    "df_copy = df_copy.dropna()\n",
    "\n",
    "# Drop the first column for comparison\n",
    "df_no_timestamp = df_copy.drop(df_copy.columns[0], axis=1)\n",
    "\n",
    "# Drop rows with negative values in the remaining columns\n",
    "df_no_negatives = df_no_timestamp[(df_no_timestamp >= 0).all(axis=1)]\n",
    "\n",
    "# Reattach the first column (Timestamp)\n",
    "df_final = df_copy.loc[df_no_negatives.index]"
   ]
  },
  {
   "cell_type": "code",
   "execution_count": 14,
   "metadata": {},
   "outputs": [
    {
     "data": {
      "text/plain": [
       "(149506, 15)"
      ]
     },
     "execution_count": 14,
     "metadata": {},
     "output_type": "execute_result"
    }
   ],
   "source": [
    "df_final.shape"
   ]
  },
  {
   "cell_type": "code",
   "execution_count": 15,
   "metadata": {},
   "outputs": [],
   "source": [
    "df_final = df_final.iloc[:5000]"
   ]
  },
  {
   "cell_type": "code",
   "execution_count": 18,
   "metadata": {},
   "outputs": [],
   "source": [
    "df_final.to_csv(\"experiment_1.csv\", index = False)"
   ]
  },
  {
   "cell_type": "code",
   "execution_count": null,
   "metadata": {},
   "outputs": [],
   "source": []
  }
 ],
 "metadata": {
  "kernelspec": {
   "display_name": "venv",
   "language": "python",
   "name": "python3"
  },
  "language_info": {
   "codemirror_mode": {
    "name": "ipython",
    "version": 3
   },
   "file_extension": ".py",
   "mimetype": "text/x-python",
   "name": "python",
   "nbconvert_exporter": "python",
   "pygments_lexer": "ipython3",
   "version": "3.11.7"
  }
 },
 "nbformat": 4,
 "nbformat_minor": 2
}
